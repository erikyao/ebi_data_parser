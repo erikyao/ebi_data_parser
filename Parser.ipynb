{
 "cells": [
  {
   "cell_type": "markdown",
   "metadata": {},
   "source": [
    "## Import EBI's gene2phenotype"
   ]
  },
  {
   "cell_type": "markdown",
   "metadata": {},
   "source": [
    "### Read Data from CSV"
   ]
  },
  {
   "cell_type": "code",
   "execution_count": 51,
   "metadata": {
    "scrolled": false
   },
   "outputs": [
    {
     "data": {
      "text/html": [
       "<div>\n",
       "<style scoped>\n",
       "    .dataframe tbody tr th:only-of-type {\n",
       "        vertical-align: middle;\n",
       "    }\n",
       "\n",
       "    .dataframe tbody tr th {\n",
       "        vertical-align: top;\n",
       "    }\n",
       "\n",
       "    .dataframe thead th {\n",
       "        text-align: right;\n",
       "    }\n",
       "</style>\n",
       "<table border=\"1\" class=\"dataframe\">\n",
       "  <thead>\n",
       "    <tr style=\"text-align: right;\">\n",
       "      <th></th>\n",
       "      <th>gene symbol</th>\n",
       "      <th>gene mim</th>\n",
       "      <th>disease name</th>\n",
       "      <th>disease mim</th>\n",
       "      <th>DDD category</th>\n",
       "      <th>allelic requirement</th>\n",
       "      <th>mutation consequence</th>\n",
       "      <th>phenotypes</th>\n",
       "      <th>organ specificity list</th>\n",
       "      <th>pmids</th>\n",
       "      <th>panel</th>\n",
       "      <th>prev symbols</th>\n",
       "      <th>hgnc id</th>\n",
       "      <th>gene disease pair entry date</th>\n",
       "    </tr>\n",
       "  </thead>\n",
       "  <tbody>\n",
       "    <tr>\n",
       "      <th>0</th>\n",
       "      <td>APC</td>\n",
       "      <td>No gene mim</td>\n",
       "      <td>DESMOID DISEASE, HEREDITARY</td>\n",
       "      <td>No disease mim</td>\n",
       "      <td>confirmed</td>\n",
       "      <td>monoallelic</td>\n",
       "      <td>NaN</td>\n",
       "      <td>NaN</td>\n",
       "      <td>NaN</td>\n",
       "      <td>8940264;8968744;10077730;10782927</td>\n",
       "      <td>Cancer</td>\n",
       "      <td>NaN</td>\n",
       "      <td>583</td>\n",
       "      <td>2016-11-29 13:19:26</td>\n",
       "    </tr>\n",
       "    <tr>\n",
       "      <th>1</th>\n",
       "      <td>APC</td>\n",
       "      <td>No gene mim</td>\n",
       "      <td>ADENOMATOUS POLYPOSIS COLI</td>\n",
       "      <td>No disease mim</td>\n",
       "      <td>confirmed</td>\n",
       "      <td>monoallelic</td>\n",
       "      <td>loss of function</td>\n",
       "      <td>NaN</td>\n",
       "      <td>NaN</td>\n",
       "      <td>1651174;8252630;10494086;8019566;7661930;92881...</td>\n",
       "      <td>Cancer</td>\n",
       "      <td>NaN</td>\n",
       "      <td>583</td>\n",
       "      <td>2016-11-29 13:19:26</td>\n",
       "    </tr>\n",
       "    <tr>\n",
       "      <th>2</th>\n",
       "      <td>ATM</td>\n",
       "      <td>607585</td>\n",
       "      <td>ATAXIA-TELANGIECTASIA</td>\n",
       "      <td>208900</td>\n",
       "      <td>confirmed</td>\n",
       "      <td>biallelic</td>\n",
       "      <td>loss of function</td>\n",
       "      <td>NaN</td>\n",
       "      <td>NaN</td>\n",
       "      <td>9443866;11889466;22345219;9450874;8808599;9600...</td>\n",
       "      <td>Cancer</td>\n",
       "      <td>ATD;ATA;ATDC;ATC</td>\n",
       "      <td>795</td>\n",
       "      <td>2016-11-29 13:19:26</td>\n",
       "    </tr>\n",
       "    <tr>\n",
       "      <th>3</th>\n",
       "      <td>BAP1</td>\n",
       "      <td>No gene mim</td>\n",
       "      <td>TUMOR PREDISPOSITION SYNDROME</td>\n",
       "      <td>No disease mim</td>\n",
       "      <td>confirmed</td>\n",
       "      <td>monoallelic</td>\n",
       "      <td>loss of function</td>\n",
       "      <td>NaN</td>\n",
       "      <td>NaN</td>\n",
       "      <td>21874003;21941004;21874000;23684012</td>\n",
       "      <td>Cancer</td>\n",
       "      <td>NaN</td>\n",
       "      <td>950</td>\n",
       "      <td>2016-11-29 13:19:26</td>\n",
       "    </tr>\n",
       "    <tr>\n",
       "      <th>4</th>\n",
       "      <td>BMPR1A</td>\n",
       "      <td>No gene mim</td>\n",
       "      <td>JUVENILE POLYPOSIS SYNDROME, INFANTILE FORM</td>\n",
       "      <td>No disease mim</td>\n",
       "      <td>confirmed</td>\n",
       "      <td>monoallelic</td>\n",
       "      <td>loss of function</td>\n",
       "      <td>NaN</td>\n",
       "      <td>NaN</td>\n",
       "      <td>9811934;9582123;10398437</td>\n",
       "      <td>Cancer</td>\n",
       "      <td>ACVRLK3</td>\n",
       "      <td>1076</td>\n",
       "      <td>2016-11-29 13:19:26</td>\n",
       "    </tr>\n",
       "  </tbody>\n",
       "</table>\n",
       "</div>"
      ],
      "text/plain": [
       "  gene symbol     gene mim                                 disease name  \\\n",
       "0         APC  No gene mim                  DESMOID DISEASE, HEREDITARY   \n",
       "1         APC  No gene mim                   ADENOMATOUS POLYPOSIS COLI   \n",
       "2         ATM       607585                        ATAXIA-TELANGIECTASIA   \n",
       "3        BAP1  No gene mim                TUMOR PREDISPOSITION SYNDROME   \n",
       "4      BMPR1A  No gene mim  JUVENILE POLYPOSIS SYNDROME, INFANTILE FORM   \n",
       "\n",
       "      disease mim DDD category allelic requirement mutation consequence  \\\n",
       "0  No disease mim    confirmed         monoallelic                  NaN   \n",
       "1  No disease mim    confirmed         monoallelic     loss of function   \n",
       "2          208900    confirmed           biallelic     loss of function   \n",
       "3  No disease mim    confirmed         monoallelic     loss of function   \n",
       "4  No disease mim    confirmed         monoallelic     loss of function   \n",
       "\n",
       "   phenotypes  organ specificity list  \\\n",
       "0         NaN                     NaN   \n",
       "1         NaN                     NaN   \n",
       "2         NaN                     NaN   \n",
       "3         NaN                     NaN   \n",
       "4         NaN                     NaN   \n",
       "\n",
       "                                               pmids   panel  \\\n",
       "0                  8940264;8968744;10077730;10782927  Cancer   \n",
       "1  1651174;8252630;10494086;8019566;7661930;92881...  Cancer   \n",
       "2  9443866;11889466;22345219;9450874;8808599;9600...  Cancer   \n",
       "3                21874003;21941004;21874000;23684012  Cancer   \n",
       "4                           9811934;9582123;10398437  Cancer   \n",
       "\n",
       "       prev symbols  hgnc id gene disease pair entry date  \n",
       "0               NaN      583          2016-11-29 13:19:26  \n",
       "1               NaN      583          2016-11-29 13:19:26  \n",
       "2  ATD;ATA;ATDC;ATC      795          2016-11-29 13:19:26  \n",
       "3               NaN      950          2016-11-29 13:19:26  \n",
       "4           ACVRLK3     1076          2016-11-29 13:19:26  "
      ]
     },
     "execution_count": 51,
     "metadata": {},
     "output_type": "execute_result"
    }
   ],
   "source": [
    "import pandas as pd\n",
    "import numpy as np\n",
    "df = pd.read_csv('CancerG2P_29_8_2018.csv', sep=',')\n",
    "df.head()"
   ]
  },
  {
   "cell_type": "markdown",
   "metadata": {},
   "source": [
    "### Separate hgnc_id"
   ]
  },
  {
   "cell_type": "code",
   "execution_count": 52,
   "metadata": {},
   "outputs": [
    {
     "data": {
      "text/html": [
       "<div>\n",
       "<style scoped>\n",
       "    .dataframe tbody tr th:only-of-type {\n",
       "        vertical-align: middle;\n",
       "    }\n",
       "\n",
       "    .dataframe tbody tr th {\n",
       "        vertical-align: top;\n",
       "    }\n",
       "\n",
       "    .dataframe thead th {\n",
       "        text-align: right;\n",
       "    }\n",
       "</style>\n",
       "<table border=\"1\" class=\"dataframe\">\n",
       "  <thead>\n",
       "    <tr style=\"text-align: right;\">\n",
       "      <th></th>\n",
       "      <th>hgnc id</th>\n",
       "    </tr>\n",
       "  </thead>\n",
       "  <tbody>\n",
       "    <tr>\n",
       "      <th>0</th>\n",
       "      <td>583</td>\n",
       "    </tr>\n",
       "    <tr>\n",
       "      <th>1</th>\n",
       "      <td>583</td>\n",
       "    </tr>\n",
       "    <tr>\n",
       "      <th>2</th>\n",
       "      <td>795</td>\n",
       "    </tr>\n",
       "    <tr>\n",
       "      <th>3</th>\n",
       "      <td>950</td>\n",
       "    </tr>\n",
       "    <tr>\n",
       "      <th>4</th>\n",
       "      <td>1076</td>\n",
       "    </tr>\n",
       "  </tbody>\n",
       "</table>\n",
       "</div>"
      ],
      "text/plain": [
       "   hgnc id\n",
       "0      583\n",
       "1      583\n",
       "2      795\n",
       "3      950\n",
       "4     1076"
      ]
     },
     "execution_count": 52,
     "metadata": {},
     "output_type": "execute_result"
    }
   ],
   "source": [
    "hgnc_id = df.loc[:,[\"hgnc id\"]] \n",
    "hgnc_id.head()"
   ]
  },
  {
   "cell_type": "code",
   "execution_count": 53,
   "metadata": {},
   "outputs": [
    {
     "data": {
      "text/plain": [
       "array([[ 583],\n",
       "       [ 583],\n",
       "       [ 795],\n",
       "       [ 950],\n",
       "       [1076]], dtype=int64)"
      ]
     },
     "execution_count": 53,
     "metadata": {},
     "output_type": "execute_result"
    }
   ],
   "source": [
    "hgnc_id = hgnc_id.values\n",
    "hgnc_id[:5]"
   ]
  },
  {
   "cell_type": "code",
   "execution_count": 55,
   "metadata": {},
   "outputs": [
    {
     "data": {
      "text/plain": [
       "(128, 1)"
      ]
     },
     "execution_count": 55,
     "metadata": {},
     "output_type": "execute_result"
    }
   ],
   "source": [
    "hgnc_id.shape"
   ]
  },
  {
   "cell_type": "code",
   "execution_count": 54,
   "metadata": {},
   "outputs": [
    {
     "data": {
      "text/html": [
       "<div>\n",
       "<style scoped>\n",
       "    .dataframe tbody tr th:only-of-type {\n",
       "        vertical-align: middle;\n",
       "    }\n",
       "\n",
       "    .dataframe tbody tr th {\n",
       "        vertical-align: top;\n",
       "    }\n",
       "\n",
       "    .dataframe thead th {\n",
       "        text-align: right;\n",
       "    }\n",
       "</style>\n",
       "<table border=\"1\" class=\"dataframe\">\n",
       "  <thead>\n",
       "    <tr style=\"text-align: right;\">\n",
       "      <th></th>\n",
       "      <th>gene symbol</th>\n",
       "      <th>gene mim</th>\n",
       "      <th>disease name</th>\n",
       "      <th>disease mim</th>\n",
       "      <th>DDD category</th>\n",
       "      <th>allelic requirement</th>\n",
       "      <th>mutation consequence</th>\n",
       "      <th>phenotypes</th>\n",
       "      <th>organ specificity list</th>\n",
       "      <th>pmids</th>\n",
       "      <th>panel</th>\n",
       "      <th>prev symbols</th>\n",
       "      <th>gene disease pair entry date</th>\n",
       "    </tr>\n",
       "  </thead>\n",
       "  <tbody>\n",
       "    <tr>\n",
       "      <th>0</th>\n",
       "      <td>APC</td>\n",
       "      <td>No gene mim</td>\n",
       "      <td>DESMOID DISEASE, HEREDITARY</td>\n",
       "      <td>No disease mim</td>\n",
       "      <td>confirmed</td>\n",
       "      <td>monoallelic</td>\n",
       "      <td>NaN</td>\n",
       "      <td>NaN</td>\n",
       "      <td>NaN</td>\n",
       "      <td>8940264;8968744;10077730;10782927</td>\n",
       "      <td>Cancer</td>\n",
       "      <td>NaN</td>\n",
       "      <td>2016-11-29 13:19:26</td>\n",
       "    </tr>\n",
       "    <tr>\n",
       "      <th>1</th>\n",
       "      <td>APC</td>\n",
       "      <td>No gene mim</td>\n",
       "      <td>ADENOMATOUS POLYPOSIS COLI</td>\n",
       "      <td>No disease mim</td>\n",
       "      <td>confirmed</td>\n",
       "      <td>monoallelic</td>\n",
       "      <td>loss of function</td>\n",
       "      <td>NaN</td>\n",
       "      <td>NaN</td>\n",
       "      <td>1651174;8252630;10494086;8019566;7661930;92881...</td>\n",
       "      <td>Cancer</td>\n",
       "      <td>NaN</td>\n",
       "      <td>2016-11-29 13:19:26</td>\n",
       "    </tr>\n",
       "    <tr>\n",
       "      <th>2</th>\n",
       "      <td>ATM</td>\n",
       "      <td>607585</td>\n",
       "      <td>ATAXIA-TELANGIECTASIA</td>\n",
       "      <td>208900</td>\n",
       "      <td>confirmed</td>\n",
       "      <td>biallelic</td>\n",
       "      <td>loss of function</td>\n",
       "      <td>NaN</td>\n",
       "      <td>NaN</td>\n",
       "      <td>9443866;11889466;22345219;9450874;8808599;9600...</td>\n",
       "      <td>Cancer</td>\n",
       "      <td>ATD;ATA;ATDC;ATC</td>\n",
       "      <td>2016-11-29 13:19:26</td>\n",
       "    </tr>\n",
       "    <tr>\n",
       "      <th>3</th>\n",
       "      <td>BAP1</td>\n",
       "      <td>No gene mim</td>\n",
       "      <td>TUMOR PREDISPOSITION SYNDROME</td>\n",
       "      <td>No disease mim</td>\n",
       "      <td>confirmed</td>\n",
       "      <td>monoallelic</td>\n",
       "      <td>loss of function</td>\n",
       "      <td>NaN</td>\n",
       "      <td>NaN</td>\n",
       "      <td>21874003;21941004;21874000;23684012</td>\n",
       "      <td>Cancer</td>\n",
       "      <td>NaN</td>\n",
       "      <td>2016-11-29 13:19:26</td>\n",
       "    </tr>\n",
       "    <tr>\n",
       "      <th>4</th>\n",
       "      <td>BMPR1A</td>\n",
       "      <td>No gene mim</td>\n",
       "      <td>JUVENILE POLYPOSIS SYNDROME, INFANTILE FORM</td>\n",
       "      <td>No disease mim</td>\n",
       "      <td>confirmed</td>\n",
       "      <td>monoallelic</td>\n",
       "      <td>loss of function</td>\n",
       "      <td>NaN</td>\n",
       "      <td>NaN</td>\n",
       "      <td>9811934;9582123;10398437</td>\n",
       "      <td>Cancer</td>\n",
       "      <td>ACVRLK3</td>\n",
       "      <td>2016-11-29 13:19:26</td>\n",
       "    </tr>\n",
       "  </tbody>\n",
       "</table>\n",
       "</div>"
      ],
      "text/plain": [
       "  gene symbol     gene mim                                 disease name  \\\n",
       "0         APC  No gene mim                  DESMOID DISEASE, HEREDITARY   \n",
       "1         APC  No gene mim                   ADENOMATOUS POLYPOSIS COLI   \n",
       "2         ATM       607585                        ATAXIA-TELANGIECTASIA   \n",
       "3        BAP1  No gene mim                TUMOR PREDISPOSITION SYNDROME   \n",
       "4      BMPR1A  No gene mim  JUVENILE POLYPOSIS SYNDROME, INFANTILE FORM   \n",
       "\n",
       "      disease mim DDD category allelic requirement mutation consequence  \\\n",
       "0  No disease mim    confirmed         monoallelic                  NaN   \n",
       "1  No disease mim    confirmed         monoallelic     loss of function   \n",
       "2          208900    confirmed           biallelic     loss of function   \n",
       "3  No disease mim    confirmed         monoallelic     loss of function   \n",
       "4  No disease mim    confirmed         monoallelic     loss of function   \n",
       "\n",
       "   phenotypes  organ specificity list  \\\n",
       "0         NaN                     NaN   \n",
       "1         NaN                     NaN   \n",
       "2         NaN                     NaN   \n",
       "3         NaN                     NaN   \n",
       "4         NaN                     NaN   \n",
       "\n",
       "                                               pmids   panel  \\\n",
       "0                  8940264;8968744;10077730;10782927  Cancer   \n",
       "1  1651174;8252630;10494086;8019566;7661930;92881...  Cancer   \n",
       "2  9443866;11889466;22345219;9450874;8808599;9600...  Cancer   \n",
       "3                21874003;21941004;21874000;23684012  Cancer   \n",
       "4                           9811934;9582123;10398437  Cancer   \n",
       "\n",
       "       prev symbols gene disease pair entry date  \n",
       "0               NaN          2016-11-29 13:19:26  \n",
       "1               NaN          2016-11-29 13:19:26  \n",
       "2  ATD;ATA;ATDC;ATC          2016-11-29 13:19:26  \n",
       "3               NaN          2016-11-29 13:19:26  \n",
       "4           ACVRLK3          2016-11-29 13:19:26  "
      ]
     },
     "execution_count": 54,
     "metadata": {},
     "output_type": "execute_result"
    }
   ],
   "source": [
    "del df['hgnc id']\n",
    "df.head()"
   ]
  },
  {
   "cell_type": "code",
   "execution_count": 47,
   "metadata": {
    "scrolled": false
   },
   "outputs": [
    {
     "data": {
      "text/plain": [
       "(128, 13)"
      ]
     },
     "execution_count": 47,
     "metadata": {},
     "output_type": "execute_result"
    }
   ],
   "source": [
    "dt = df.values # convert to numpy ndarray\n",
    "dt.shape"
   ]
  },
  {
   "cell_type": "markdown",
   "metadata": {},
   "source": [
    "### Check Data Type"
   ]
  },
  {
   "cell_type": "code",
   "execution_count": 58,
   "metadata": {},
   "outputs": [
    {
     "data": {
      "text/plain": [
       "583"
      ]
     },
     "execution_count": 58,
     "metadata": {},
     "output_type": "execute_result"
    }
   ],
   "source": [
    "hgnc_id[0,0]"
   ]
  },
  {
   "cell_type": "code",
   "execution_count": 56,
   "metadata": {},
   "outputs": [
    {
     "data": {
      "text/plain": [
       "numpy.int64"
      ]
     },
     "execution_count": 56,
     "metadata": {},
     "output_type": "execute_result"
    }
   ],
   "source": [
    "type(hgnc_id[0,0])  # expect a number instead of a string (no conversion needed)"
   ]
  },
  {
   "cell_type": "markdown",
   "metadata": {},
   "source": [
    "### Construct Result"
   ]
  },
  {
   "cell_type": "code",
   "execution_count": 66,
   "metadata": {},
   "outputs": [
    {
     "data": {
      "text/plain": [
       "['gene symbol',\n",
       " 'gene mim',\n",
       " 'disease name',\n",
       " 'disease mim',\n",
       " 'DDD category',\n",
       " 'allelic requirement',\n",
       " 'mutation consequence',\n",
       " 'phenotypes',\n",
       " 'organ specificity list',\n",
       " 'pmids',\n",
       " 'panel',\n",
       " 'prev symbols',\n",
       " 'gene disease pair entry date']"
      ]
     },
     "execution_count": 66,
     "metadata": {},
     "output_type": "execute_result"
    }
   ],
   "source": [
    "props_names = list(df)\n",
    "props_names"
   ]
  },
  {
   "cell_type": "code",
   "execution_count": null,
   "metadata": {},
   "outputs": [],
   "source": [
    "result_list=[]\n",
    "\n",
    "for x in range(0, len(dt)):\n",
    "    dict_gene = {}\n",
    "    for y in range(0, len(dt[0])):\n",
    "        dict_gene[props_names[y]] = dt[x,y];\n",
    "    dict_item = {\n",
    "        \"_id\": hgnc_id[x,0],\n",
    "         \"gene2phenotype\": dict_gene\n",
    "    }\n",
    "    result_list.append(dict_item)"
   ]
  },
  {
   "cell_type": "markdown",
   "metadata": {},
   "source": [
    "### Validate Result"
   ]
  },
  {
   "cell_type": "code",
   "execution_count": 73,
   "metadata": {},
   "outputs": [
    {
     "data": {
      "text/plain": [
       "[{'_id': 583,\n",
       "  'gene2phenotype': {'DDD category': 'confirmed',\n",
       "   'allelic requirement': 'monoallelic',\n",
       "   'disease mim': 'No disease mim',\n",
       "   'disease name': 'DESMOID DISEASE, HEREDITARY',\n",
       "   'gene disease pair entry date': '2016-11-29 13:19:26',\n",
       "   'gene mim': 'No gene mim',\n",
       "   'gene symbol': 'APC',\n",
       "   'mutation consequence': nan,\n",
       "   'organ specificity list': nan,\n",
       "   'panel': 'Cancer',\n",
       "   'phenotypes': nan,\n",
       "   'pmids': '8940264;8968744;10077730;10782927',\n",
       "   'prev symbols': nan}},\n",
       " {'_id': 583,\n",
       "  'gene2phenotype': {'DDD category': 'confirmed',\n",
       "   'allelic requirement': 'monoallelic',\n",
       "   'disease mim': 'No disease mim',\n",
       "   'disease name': 'ADENOMATOUS POLYPOSIS COLI',\n",
       "   'gene disease pair entry date': '2016-11-29 13:19:26',\n",
       "   'gene mim': 'No gene mim',\n",
       "   'gene symbol': 'APC',\n",
       "   'mutation consequence': 'loss of function',\n",
       "   'organ specificity list': nan,\n",
       "   'panel': 'Cancer',\n",
       "   'phenotypes': nan,\n",
       "   'pmids': '1651174;8252630;10494086;8019566;7661930;9288102;9950370;2164769;15771908;9916927;10598803;7797123;9724771;9603437;1651563;9521420;10562580;9487968;1324223;12136240;8931709;7485167;8162051;8281160',\n",
       "   'prev symbols': nan}}]"
      ]
     },
     "execution_count": 73,
     "metadata": {},
     "output_type": "execute_result"
    }
   ],
   "source": [
    "result_list[:2]"
   ]
  },
  {
   "cell_type": "code",
   "execution_count": 74,
   "metadata": {},
   "outputs": [
    {
     "data": {
      "text/html": [
       "<div>\n",
       "<style scoped>\n",
       "    .dataframe tbody tr th:only-of-type {\n",
       "        vertical-align: middle;\n",
       "    }\n",
       "\n",
       "    .dataframe tbody tr th {\n",
       "        vertical-align: top;\n",
       "    }\n",
       "\n",
       "    .dataframe thead th {\n",
       "        text-align: right;\n",
       "    }\n",
       "</style>\n",
       "<table border=\"1\" class=\"dataframe\">\n",
       "  <thead>\n",
       "    <tr style=\"text-align: right;\">\n",
       "      <th></th>\n",
       "      <th>gene symbol</th>\n",
       "      <th>gene mim</th>\n",
       "      <th>disease name</th>\n",
       "      <th>disease mim</th>\n",
       "      <th>DDD category</th>\n",
       "      <th>allelic requirement</th>\n",
       "      <th>mutation consequence</th>\n",
       "      <th>phenotypes</th>\n",
       "      <th>organ specificity list</th>\n",
       "      <th>pmids</th>\n",
       "      <th>panel</th>\n",
       "      <th>prev symbols</th>\n",
       "      <th>hgnc id</th>\n",
       "      <th>gene disease pair entry date</th>\n",
       "    </tr>\n",
       "  </thead>\n",
       "  <tbody>\n",
       "    <tr>\n",
       "      <th>0</th>\n",
       "      <td>APC</td>\n",
       "      <td>No gene mim</td>\n",
       "      <td>DESMOID DISEASE, HEREDITARY</td>\n",
       "      <td>No disease mim</td>\n",
       "      <td>confirmed</td>\n",
       "      <td>monoallelic</td>\n",
       "      <td>NaN</td>\n",
       "      <td>NaN</td>\n",
       "      <td>NaN</td>\n",
       "      <td>8940264;8968744;10077730;10782927</td>\n",
       "      <td>Cancer</td>\n",
       "      <td>NaN</td>\n",
       "      <td>583</td>\n",
       "      <td>2016-11-29 13:19:26</td>\n",
       "    </tr>\n",
       "    <tr>\n",
       "      <th>1</th>\n",
       "      <td>APC</td>\n",
       "      <td>No gene mim</td>\n",
       "      <td>ADENOMATOUS POLYPOSIS COLI</td>\n",
       "      <td>No disease mim</td>\n",
       "      <td>confirmed</td>\n",
       "      <td>monoallelic</td>\n",
       "      <td>loss of function</td>\n",
       "      <td>NaN</td>\n",
       "      <td>NaN</td>\n",
       "      <td>1651174;8252630;10494086;8019566;7661930;92881...</td>\n",
       "      <td>Cancer</td>\n",
       "      <td>NaN</td>\n",
       "      <td>583</td>\n",
       "      <td>2016-11-29 13:19:26</td>\n",
       "    </tr>\n",
       "  </tbody>\n",
       "</table>\n",
       "</div>"
      ],
      "text/plain": [
       "  gene symbol     gene mim                 disease name     disease mim  \\\n",
       "0         APC  No gene mim  DESMOID DISEASE, HEREDITARY  No disease mim   \n",
       "1         APC  No gene mim   ADENOMATOUS POLYPOSIS COLI  No disease mim   \n",
       "\n",
       "  DDD category allelic requirement mutation consequence  phenotypes  \\\n",
       "0    confirmed         monoallelic                  NaN         NaN   \n",
       "1    confirmed         monoallelic     loss of function         NaN   \n",
       "\n",
       "   organ specificity list                                              pmids  \\\n",
       "0                     NaN                  8940264;8968744;10077730;10782927   \n",
       "1                     NaN  1651174;8252630;10494086;8019566;7661930;92881...   \n",
       "\n",
       "    panel prev symbols  hgnc id gene disease pair entry date  \n",
       "0  Cancer          NaN      583          2016-11-29 13:19:26  \n",
       "1  Cancer          NaN      583          2016-11-29 13:19:26  "
      ]
     },
     "execution_count": 74,
     "metadata": {},
     "output_type": "execute_result"
    }
   ],
   "source": [
    "df = pd.read_csv('CancerG2P_29_8_2018.csv', sep=',')\n",
    "df.loc[df['hgnc id'] == 583] # query by id"
   ]
  },
  {
   "cell_type": "code",
   "execution_count": null,
   "metadata": {},
   "outputs": [],
   "source": []
  }
 ],
 "metadata": {
  "kernelspec": {
   "display_name": "Python 3",
   "language": "python",
   "name": "python3"
  },
  "language_info": {
   "codemirror_mode": {
    "name": "ipython",
    "version": 3
   },
   "file_extension": ".py",
   "mimetype": "text/x-python",
   "name": "python",
   "nbconvert_exporter": "python",
   "pygments_lexer": "ipython3",
   "version": "3.6.4"
  }
 },
 "nbformat": 4,
 "nbformat_minor": 2
}
