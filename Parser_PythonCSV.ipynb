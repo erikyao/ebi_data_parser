{
 "cells": [
  {
   "cell_type": "markdown",
   "metadata": {},
   "source": [
    "## Import EBI's gene2phenotype\n",
    "###  1. Using Python CSV (Alternative Method)\n",
    "#### Read CSVs"
   ]
  },
  {
   "cell_type": "code",
   "execution_count": 41,
   "metadata": {},
   "outputs": [
    {
     "name": "stdout",
     "output_type": "stream",
     "text": [
      "129 2332\n"
     ]
    }
   ],
   "source": [
    "import csv\n",
    "dt1 = list(csv.reader(open('CancerG2P_29_8_2018.csv')))\n",
    "dt2 = list(csv.reader(open('DDG2P_29_8_2018.csv')))\n",
    "print(len(dt1),len(dt2))"
   ]
  },
  {
   "cell_type": "code",
   "execution_count": 42,
   "metadata": {},
   "outputs": [
    {
     "data": {
      "text/plain": [
       "['APC',\n",
       " 'No gene mim',\n",
       " 'DESMOID DISEASE, HEREDITARY',\n",
       " 'No disease mim',\n",
       " 'confirmed',\n",
       " 'monoallelic',\n",
       " '',\n",
       " '',\n",
       " '',\n",
       " '8940264;8968744;10077730;10782927',\n",
       " 'Cancer',\n",
       " '',\n",
       " '583',\n",
       " '2016-11-29 13:19:26']"
      ]
     },
     "execution_count": 42,
     "metadata": {},
     "output_type": "execute_result"
    }
   ],
   "source": [
    "# review data entry format without header\n",
    "dt1[1]"
   ]
  },
  {
   "cell_type": "code",
   "execution_count": 43,
   "metadata": {},
   "outputs": [
    {
     "name": "stdout",
     "output_type": "stream",
     "text": [
      "14 14\n"
     ]
    }
   ],
   "source": [
    "# confirm shapes of two csvs are the same\n",
    "print(len(dt1[0]),len(dt2[0]))"
   ]
  },
  {
   "cell_type": "markdown",
   "metadata": {},
   "source": [
    "#### Clean Data"
   ]
  },
  {
   "cell_type": "code",
   "execution_count": 44,
   "metadata": {},
   "outputs": [
    {
     "data": {
      "text/plain": [
       "['gene symbol',\n",
       " 'gene mim',\n",
       " 'disease name',\n",
       " 'disease mim',\n",
       " 'DDD category',\n",
       " 'allelic requirement',\n",
       " 'mutation consequence',\n",
       " 'phenotypes',\n",
       " 'organ specificity list',\n",
       " 'pmids',\n",
       " 'panel',\n",
       " 'prev symbols',\n",
       " 'hgnc id',\n",
       " 'gene disease pair entry date']"
      ]
     },
     "execution_count": 44,
     "metadata": {},
     "output_type": "execute_result"
    }
   ],
   "source": [
    "# extract property names\n",
    "props_names = dt1[0]\n",
    "props_names"
   ]
  },
  {
   "cell_type": "code",
   "execution_count": 45,
   "metadata": {},
   "outputs": [],
   "source": [
    "dt1_header_removed = dt1[1:]\n",
    "dt2_header_removed = dt2[1:]"
   ]
  },
  {
   "cell_type": "code",
   "execution_count": 46,
   "metadata": {
    "scrolled": true
   },
   "outputs": [
    {
     "data": {
      "text/plain": [
       "['APC',\n",
       " '',\n",
       " 'DESMOID DISEASE, HEREDITARY',\n",
       " '',\n",
       " 'confirmed',\n",
       " 'monoallelic',\n",
       " '',\n",
       " '',\n",
       " '',\n",
       " '8940264;8968744;10077730;10782927',\n",
       " 'Cancer',\n",
       " '',\n",
       " '583',\n",
       " '2016-11-29 13:19:26']"
      ]
     },
     "execution_count": 46,
     "metadata": {},
     "output_type": "execute_result"
    }
   ],
   "source": [
    "def cleanCSV(ls):\n",
    "    for row in ls:\n",
    "        if (row[1]=='No gene mim'): row[1]=''\n",
    "        if (row[3]=='No disease mim'): row[3]=''\n",
    "        \n",
    "cleanCSV(dt1_header_removed)\n",
    "cleanCSV(dt2_header_removed)\n",
    "\n",
    "# review the result of data cleaning\n",
    "dt1_header_removed[0]"
   ]
  },
  {
   "cell_type": "markdown",
   "metadata": {},
   "source": [
    "#### Combine Data Frames"
   ]
  },
  {
   "cell_type": "code",
   "execution_count": 47,
   "metadata": {},
   "outputs": [
    {
     "name": "stdout",
     "output_type": "stream",
     "text": [
      "128 2331\n"
     ]
    }
   ],
   "source": [
    "print(len(dt1_header_removed), len(dt2_header_removed))"
   ]
  },
  {
   "cell_type": "code",
   "execution_count": 49,
   "metadata": {},
   "outputs": [
    {
     "data": {
      "text/plain": [
       "2459"
      ]
     },
     "execution_count": 49,
     "metadata": {},
     "output_type": "execute_result"
    }
   ],
   "source": [
    "dt = dt1_header_removed + dt2_header_removed\n",
    "len(dt)"
   ]
  },
  {
   "cell_type": "code",
   "execution_count": 54,
   "metadata": {},
   "outputs": [
    {
     "name": "stdout",
     "output_type": "stream",
     "text": [
      "Checking Done\n"
     ]
    }
   ],
   "source": [
    "for row in dt:\n",
    "    if len(row)!=14:\n",
    "        print('Mismatch!')\n",
    "print('Checking Done')"
   ]
  },
  {
   "cell_type": "markdown",
   "metadata": {},
   "source": [
    "### 2. Parse"
   ]
  },
  {
   "cell_type": "code",
   "execution_count": 61,
   "metadata": {},
   "outputs": [
    {
     "data": {
      "text/plain": [
       "1805"
      ]
     },
     "execution_count": 61,
     "metadata": {},
     "output_type": "execute_result"
    }
   ],
   "source": [
    "from datetime import datetime\n",
    "\n",
    "result_dict={} # intermediate dict construct, with unique ids\n",
    "\n",
    "for x in range(len(dt)):  # of all observations\n",
    "    dict_gene = {} # each observation's storage to attach to the 'gene2phenotype' of its unique id in main dict\n",
    "    \n",
    "    for y in range(len(dt[0])): # of all properties\n",
    "        if dt[x][y]!='': # of not empty properties\n",
    "            if (y==2 or y==3):\n",
    "                # additional processsing for disease name and mim\n",
    "                if 'disease' not in dict_gene:\n",
    "                    dict_gene['disease'] = {}\n",
    "                dict_gene['disease'][props_names[y]] = dt[x][y]\n",
    "            elif (y==7 or y==8 or y==11): \n",
    "                # additional processing for rgan specificity list , pre symbols, phenotypes\n",
    "                dict_gene[props_names[y]] = dt[x][y].split(';')\n",
    "            elif (y==9): \n",
    "                # additional processing for pmids (list of integers)\n",
    "                dict_gene[props_names[y]] = [int(x) for x in dt[x][y].split(';')]\n",
    "            elif (y==12):\n",
    "                continue\n",
    "            elif (y==13):\n",
    "                dict_gene[props_names[y]] = datetime.strptime(dt[x][y], '%Y-%m-%d %H:%M:%S')\n",
    "            else:\n",
    "                dict_gene[props_names[y]] = dt[x][y]\n",
    "    \n",
    "    if int(dt[x][12]) in result_dict:\n",
    "        list_gene = result_dict[int(dt[x][12])]['gene2phenotype'];\n",
    "        list_gene.append(dict_gene)\n",
    "        result_dict[int(dt[x][12])]['gene2phenotype'] = list_gene;\n",
    "    else:\n",
    "        dict_item = {\n",
    "            \"_id\": int(dt[x][12]),\n",
    "             \"gene2phenotype\": [dict_gene]\n",
    "        }        \n",
    "        result_dict[int(dt[x][12])] = dict_item\n",
    "        \n",
    "result_list = list(result_dict.values())\n",
    "\n",
    "len(result_list)"
   ]
  },
  {
   "cell_type": "markdown",
   "metadata": {},
   "source": [
    "### 3. Output"
   ]
  },
  {
   "cell_type": "code",
   "execution_count": 62,
   "metadata": {},
   "outputs": [],
   "source": [
    "import io\n",
    "import json\n",
    "file = io.open(\"result_from_pythoncsv.txt\",\"w\",encoding='utf8');\n",
    "file.write(json.dumps(result_list, indent=4, sort_keys=True, default=str));\n",
    "file.close();"
   ]
  }
 ],
 "metadata": {
  "kernelspec": {
   "display_name": "Python 3",
   "language": "python",
   "name": "python3"
  },
  "language_info": {
   "codemirror_mode": {
    "name": "ipython",
    "version": 3
   },
   "file_extension": ".py",
   "mimetype": "text/x-python",
   "name": "python",
   "nbconvert_exporter": "python",
   "pygments_lexer": "ipython3",
   "version": "3.6.4"
  }
 },
 "nbformat": 4,
 "nbformat_minor": 2
}
